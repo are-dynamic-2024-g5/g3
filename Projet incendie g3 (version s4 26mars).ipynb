{
 "cells": [
  {
   "cell_type": "code",
   "execution_count": 1,
   "id": "23384e69-df9f-4cb1-a32a-95f8497aa902",
   "metadata": {},
   "outputs": [],
   "source": [
    "import numpy as np\n",
    "from matplotlib import pyplot as plt\n",
    "import random"
   ]
  },
  {
   "cell_type": "code",
   "execution_count": 2,
   "id": "46f75ac2-1014-4902-8800-053ff405f0af",
   "metadata": {},
   "outputs": [],
   "source": [
    "#coordonnée de la personne 1\n",
    "x1 = 30\n",
    "y1 = 50\n",
    "pos1 = np.array((x1,y1))\n",
    "\n",
    "x2 = 15\n",
    "y2 = 60\n",
    "pos2 = np.array((x2,y2))\n",
    "\n",
    "#coordonnée de sortie\n",
    "sx1 = 0\n",
    "sy1 = 0\n",
    "sx2 = 30\n",
    "sy2 = 0\n",
    "sortie1 = np.array((sx1,sy1))\n",
    "sortie2 = np.array((sx2,sy2))\n",
    "sortie = np.array((sortie1,sortie2))\n",
    "\n",
    "\n",
    "#vitesse de mouvement de la personne\n",
    "v = 1.5 #m/s\n",
    "\n",
    "#temps\n",
    "dt = 1\n",
    "tmax = 10"
   ]
  },
  {
   "cell_type": "code",
   "execution_count": 3,
   "id": "e08af95c-978e-4c5e-a600-f2e68c49feb8",
   "metadata": {},
   "outputs": [
    {
     "name": "stdout",
     "output_type": "stream",
     "text": [
      "[array([21, 40]), array([34, 14]), array([13, 25]), array([38, 52]), array([13, 43]), array([59, 57]), array([41, 33]), array([39, 57]), array([ 0, 26]), array([30, 59])]\n"
     ]
    }
   ],
   "source": [
    "#testtttttttttttttt\n",
    "\n",
    "def generer_people(nb,x_max,y_max):\n",
    "    people = []\n",
    "    for i in range(nb):\n",
    "        x = random.randint(0,x_max)\n",
    "        y = random.randint(0,y_max)\n",
    "        position = np.array((x,y))\n",
    "        people.append(position)\n",
    "    return people\n",
    "\n",
    "print(generer_people(10,60,60))\n",
    "\n",
    "def positions_individu(pos,sortie,v,dt,t_max):\n",
    "    p = pos\n",
    "    res = [p]\n",
    "    t = 0\n",
    "    while (t<t_max):\n",
    "        step = step(p,sortie,v,dt)\n",
    "        p = p + step\n",
    "        res.append(p)\n",
    "        t = t + dt\n",
    "    return res"
   ]
  },
  {
   "cell_type": "code",
   "execution_count": 4,
   "id": "2c4653b7-a0d1-4538-a175-09d9a4678fdc",
   "metadata": {},
   "outputs": [],
   "source": [
    "def direction(pos,sortie):\n",
    "    d = sortie - pos\n",
    "    d = d/np.sqrt(d[0]**2+d[1]**2)\n",
    "    return d\n",
    "\n",
    "\n",
    "def sortiePlusProche(pos,sortie):\n",
    "    d = np.linalg.norm(sortie - pos, axis=1)\n",
    "    return np.argmin(d)\n",
    "        \n",
    "s_pos1 = sortiePlusProche(pos1,sortie)\n",
    "s_pos2 = sortiePlusProche(pos2,sortie)\n",
    "\n",
    "\n",
    "def step(pos,sorties,v,dt): \n",
    "    sortie = sortiePlusProche(pos,sorties)\n",
    "    dir = direction(pos,sortie)\n",
    "    return v*dt*dir\n",
    "    \n",
    "\n",
    "def generer_people(nb,x_max,y_max):\n",
    "    people = np.zeros((nb,2))\n",
    "    for i in range(nb):\n",
    "        x = random.randint(0,x_max)\n",
    "        y = random.randint(0,y_max)\n",
    "        people[i, 0] = x\n",
    "        people[i, 1] = y\n",
    "    return people\n",
    "#x_max, y_max = dimension de l'espace\n",
    "\n",
    "\n",
    "\n",
    "def step_people(people,sortie,v,dt,t_max):\n",
    "    res = [people]\n",
    "    t = 0\n",
    "    while (t<t_max):\n",
    "        new_people = res[-1].copy()\n",
    "        for i in range(len(people)):\n",
    "            new_people[i] = new_people[i] + step(new_people[i],sortie,v,dt)\n",
    "        res.append(new_people)\n",
    "        t = t + dt\n",
    "    return res"
   ]
  },
  {
   "cell_type": "code",
   "execution_count": 31,
   "id": "03a58739-920c-4f06-b0df-7da77c4aa051",
   "metadata": {},
   "outputs": [
    {
     "name": "stdout",
     "output_type": "stream",
     "text": [
      "[array([[22., 49.],\n",
      "       [14.,  0.],\n",
      "       [55., 53.],\n",
      "       [42., 51.],\n",
      "       [22., 15.]]), array([[21.39877175, 47.625764  ],\n",
      "       [12.5       ,  0.        ],\n",
      "       [53.91951968, 51.95953747],\n",
      "       [41.04888062, 49.84009831],\n",
      "       [20.75192456, 14.16794971]]), array([[20.7975435 , 46.251528  ],\n",
      "       [11.        ,  0.        ],\n",
      "       [52.83903936, 50.91907494],\n",
      "       [40.09776124, 48.68019663],\n",
      "       [19.50384912, 13.33589941]]), array([[20.19631525, 44.87729199],\n",
      "       [ 9.5       ,  0.        ],\n",
      "       [51.75855904, 49.87861241],\n",
      "       [39.14664185, 47.52029494],\n",
      "       [18.25577368, 12.50384912]]), array([[19.595087  , 43.50305599],\n",
      "       [ 8.        ,  0.        ],\n",
      "       [50.67807872, 48.83814988],\n",
      "       [38.19552247, 46.36039326],\n",
      "       [17.00769823, 11.67179882]]), array([[18.99385874, 42.12881999],\n",
      "       [ 6.5       ,  0.        ],\n",
      "       [49.5975984 , 47.79768735],\n",
      "       [37.24440309, 45.20049157],\n",
      "       [15.75962279, 10.83974853]]), array([[18.39263049, 40.75458399],\n",
      "       [ 5.        ,  0.        ],\n",
      "       [48.51711808, 46.75722482],\n",
      "       [36.29328371, 44.04058989],\n",
      "       [14.51154735, 10.00769823]]), array([[17.79140224, 39.38034798],\n",
      "       [ 3.5       ,  0.        ],\n",
      "       [47.43663776, 45.71676229],\n",
      "       [35.34216432, 42.8806882 ],\n",
      "       [13.27671762,  9.15611411]]), array([[17.19017399, 38.00611198],\n",
      "       [ 2.        ,  0.        ],\n",
      "       [46.35615744, 44.67629976],\n",
      "       [34.39104494, 41.72078651],\n",
      "       [12.04188788,  8.30452998]]), array([[16.58894574, 36.63187598],\n",
      "       [ 0.5       ,  0.        ],\n",
      "       [45.27567712, 43.63583722],\n",
      "       [33.43992556, 40.56088483],\n",
      "       [10.80705814,  7.45294586]]), array([[15.98771749, 35.25763998],\n",
      "       [-1.        ,  0.        ],\n",
      "       [44.1951968 , 42.59537469],\n",
      "       [32.48880618, 39.40098314],\n",
      "       [ 9.57222841,  6.60136173]])]\n",
      "[[[22.         49.        ]\n",
      "  [21.39877175 47.625764  ]\n",
      "  [20.7975435  46.251528  ]\n",
      "  [20.19631525 44.87729199]\n",
      "  [19.595087   43.50305599]\n",
      "  [18.99385874 42.12881999]\n",
      "  [18.39263049 40.75458399]\n",
      "  [17.79140224 39.38034798]\n",
      "  [17.19017399 38.00611198]\n",
      "  [16.58894574 36.63187598]\n",
      "  [15.98771749 35.25763998]]\n",
      "\n",
      " [[14.          0.        ]\n",
      "  [12.5         0.        ]\n",
      "  [11.          0.        ]\n",
      "  [ 9.5         0.        ]\n",
      "  [ 8.          0.        ]\n",
      "  [ 6.5         0.        ]\n",
      "  [ 5.          0.        ]\n",
      "  [ 3.5         0.        ]\n",
      "  [ 2.          0.        ]\n",
      "  [ 0.5         0.        ]\n",
      "  [-1.          0.        ]]]\n"
     ]
    }
   ],
   "source": [
    "nb_pers = 5\n",
    "x_max = 60\n",
    "y_max = 60\n",
    "people = generer_people(nb_pers,x_max,y_max)\n",
    "liste_step = step_people(people,sortie,v,dt,tmax)\n",
    "#print(people)\n",
    "print(liste_step)\n",
    "\n",
    "def plot_xy(liste_step):\n",
    "    pos_x = []\n",
    "    pos_y = []\n",
    "    res_x = []\n",
    "    for i in range(len(liste_step)):\n",
    "        for j in range(len(liste_step[i])):\n",
    "            pos_x.append(liste_step[i][j][0])\n",
    "            pos_y.append(liste_step[i][j][1])\n",
    "    return np.array((pos_x,pos_y))\n",
    "\n",
    "plot = plot_xy(liste_step)\n",
    "print(plot)"
   ]
  },
  {
   "cell_type": "code",
   "execution_count": null,
   "id": "e7b231d8",
   "metadata": {},
   "outputs": [],
   "source": [
    "plt.plot()"
   ]
  },
  {
   "cell_type": "code",
   "execution_count": null,
   "id": "2f1864a0-4d7a-4093-bd09-b88154eca145",
   "metadata": {},
   "outputs": [],
   "source": [
    "position_x1 = [i[0] for i in positions_individu(pos1,sortie[s_pos1],v,dt,tmax)]\n",
    "position_y1 = [i[1] for i in positions_individu(pos1,sortie[s_pos1],v,dt,tmax)]\n",
    "position_x2 = [i[0] for i in positions_individu(pos2,sortie[s_pos2],v,dt,tmax)]\n",
    "position_y2 = [i[1] for i in positions_individu(pos2,sortie[s_pos2],v,dt,tmax)]\n",
    "\n",
    "print(positions_individu(pos1,sortie[s_pos1],v,dt,tmax))"
   ]
  },
  {
   "cell_type": "code",
   "execution_count": 7,
   "id": "495de935-6d98-4d79-b2d3-f4e0bfc1b0aa",
   "metadata": {},
   "outputs": [
    {
     "data": {
      "image/png": "[encoded data removed]",
      "text/plain": [
       "<Figure size 640x480 with 1 Axes>"
      ]
     },
     "metadata": {},
     "output_type": "display_data"
    }
   ],
   "source": [
    "plt.plot(position_x1,position_y1)\n",
    "plt.plot(position_x2,position_y2)\n",
    "plt.xlabel(\"x\")\n",
    "plt.ylabel(\"y\")\n",
    "\n",
    "#individu\n",
    "plt.plot(x1,y1,\"bo\")\n",
    "plt.plot(x2,y2,\"ko\")\n",
    "#sortie\n",
    "plt.plot(sortie[0][0],sortie[0][1],\"ro\")\n",
    "plt.plot(sortie[1][0],sortie[1][1],\"ro\")\n",
    "#obstacle\n",
    "plt.plot(obs_x,obs_y,\"k-\")\n",
    "\n",
    "plt.axis(\"equal\")\n",
    "plt.show()"
   ]
  },
  {
   "cell_type": "code",
   "execution_count": null,
   "id": "35a1d9d7",
   "metadata": {},
   "outputs": [],
   "source": [
    "\n",
    "\n",
    "\n",
    "\n",
    "\n"
   ]
  },
  {
   "cell_type": "code",
   "execution_count": 4,
   "id": "1ed71f1b-d527-4c76-a9ba-4ed707a7e246",
   "metadata": {},
   "outputs": [
    {
     "name": "stdout",
     "output_type": "stream",
     "text": [
      "[array([25, 25]), array([25.1, 25. ]), array([25.2, 25. ]), array([25.3, 25. ]), array([25.4, 25. ]), array([25.5, 25. ]), array([25.6, 25. ]), array([25.7, 25. ]), array([25.8, 25. ]), array([25.9, 25. ]), array([26., 25.]), array([26.1, 25. ]), array([26.2, 25. ]), array([26.3, 25. ]), array([26.4, 25. ]), array([26.5, 25. ]), array([26.6, 25. ]), array([26.7, 25. ]), array([26.8, 25. ]), array([26.9, 25. ]), array([27., 25.]), array([27.1, 25. ]), array([27.2, 25. ]), array([27.3, 25. ]), array([27.4, 25. ]), array([27.5, 25. ]), array([27.6, 25. ]), array([27.7, 25. ]), array([27.8, 25. ]), array([27.9, 25. ]), array([28., 25.]), array([28.1, 25. ]), array([28.2, 25. ]), array([28.3, 25. ]), array([28.4, 25. ]), array([28.5, 25. ]), array([28.6, 25. ]), array([28.7, 25. ]), array([28.8, 25. ]), array([28.9, 25. ]), array([29., 25.]), array([29.1, 25. ]), array([29.2, 25. ]), array([29.3, 25. ]), array([29.4, 25. ]), array([29.5, 25. ]), array([29.6, 25. ]), array([29.7, 25. ]), array([29.8, 25. ]), array([29.9, 25. ]), array([30., 25.]), array([30.1, 25. ]), array([30.2, 25. ]), array([30.3, 25. ]), array([30.4, 25. ]), array([30.5, 25. ]), array([30.6, 25. ]), array([30.7, 25. ]), array([30.8, 25. ]), array([30.9, 25. ]), array([31., 25.]), array([31.1, 25. ]), array([31.2, 25. ]), array([31.3, 25. ]), array([31.4, 25. ]), array([31.5, 25. ]), array([31.6, 25. ]), array([31.7, 25. ]), array([31.8, 25. ]), array([31.9, 25. ]), array([32., 25.]), array([32.1, 25. ]), array([32.2, 25. ]), array([32.3, 25. ]), array([32.4, 25. ]), array([32.5, 25. ]), array([32.6, 25. ]), array([32.7, 25. ]), array([32.8, 25. ]), array([32.9, 25. ]), array([33., 25.]), array([33.1, 25. ]), array([33.2, 25. ]), array([33.3, 25. ]), array([33.4, 25. ]), array([33.5, 25. ]), array([33.6, 25. ]), array([33.7, 25. ]), array([33.8, 25. ]), array([33.9, 25. ]), array([34., 25.]), array([34.1, 25. ]), array([34.2, 25. ]), array([34.3, 25. ]), array([34.4, 25. ]), array([34.5, 25. ]), array([34.6, 25. ]), array([34.7, 25. ]), array([34.8, 25. ]), array([34.9, 25. ]), array([35., 25.]), array([35.1, 25. ])]\n"
     ]
    }
   ],
   "source": [
    "#obstacle\n",
    "obs_a = np.array((25,25)) \n",
    "obs_b = np.array((35,25))\n",
    "\n",
    "def positions_obstacle(point_a,point_b,delta_d):\n",
    "    #ensemble des points d'un obstacle\n",
    "    #delta_d = distance entre chaque points\n",
    "    point = point_a\n",
    "    l_obs = [point]\n",
    "    dir = direction(point_a,point_b)\n",
    "    \n",
    "    d_max = point_b- point_a\n",
    "    d_max = np.sqrt(d_max[0]**2+d_max[1]**2)\n",
    "    d = 0\n",
    "    \n",
    "    while (d < d_max):\n",
    "        point = point + dir * delta_d\n",
    "        l_obs.append(point)\n",
    "        d = d + delta_d\n",
    "    return l_obs\n",
    "\n",
    "obstacle = positions_obstacle(obs_a,obs_b,0.1) #liste des coord des points d'un obstacle\n",
    "obs_x = [i[0] for i in obstacle]\n",
    "obs_y = [i[1] for i in obstacle]\n",
    "print(obstacle)"
   ]
  },
  {
   "cell_type": "code",
   "execution_count": 5,
   "id": "4943481d",
   "metadata": {},
   "outputs": [
    {
     "name": "stdout",
     "output_type": "stream",
     "text": [
      "[20 30]\n",
      "[21.5 30. ]\n"
     ]
    }
   ],
   "source": [
    "directions = np.array(((1,0),(-1,0),(0,1),(0,-1)))\n",
    "coord = np.array((20,30))\n",
    "coord2 = coord+v*dt*directions[0]\n",
    "print(coord)\n",
    "print(coord2)"
   ]
  },
  {
   "cell_type": "code",
   "execution_count": 6,
   "id": "93dbc305-4a7d-4811-8579-dc4afae80ccc",
   "metadata": {},
   "outputs": [
    {
     "name": "stdout",
     "output_type": "stream",
     "text": [
      "[21.5 30. ]\n"
     ]
    },
    {
     "ename": "ValueError",
     "evalue": "The truth value of an array with more than one element is ambiguous. Use a.any() or a.all()",
     "output_type": "error",
     "traceback": [
      "\u001b[0;31m---------------------------------------------------------------------------\u001b[0m",
      "\u001b[0;31mValueError\u001b[0m                                Traceback (most recent call last)",
      "Cell \u001b[0;32mIn[6], line 13\u001b[0m\n\u001b[1;32m     11\u001b[0m coord \u001b[38;5;241m=\u001b[39m np\u001b[38;5;241m.\u001b[39marray((\u001b[38;5;241m20\u001b[39m,\u001b[38;5;241m30\u001b[39m))\n\u001b[1;32m     12\u001b[0m \u001b[38;5;28mprint\u001b[39m(coord\u001b[38;5;241m+\u001b[39mv\u001b[38;5;241m*\u001b[39mdt\u001b[38;5;241m*\u001b[39mdirections[\u001b[38;5;241m0\u001b[39m])\n\u001b[0;32m---> 13\u001b[0m \u001b[43mdeplace_vers\u001b[49m\u001b[43m(\u001b[49m\u001b[43mcoord\u001b[49m\u001b[43m,\u001b[49m\u001b[43mobstacle\u001b[49m\u001b[43m,\u001b[49m\u001b[43mv\u001b[49m\u001b[43m,\u001b[49m\u001b[43mdt\u001b[49m\u001b[43m)\u001b[49m\n\u001b[1;32m     16\u001b[0m \u001b[38;5;28;01mdef\u001b[39;00m \u001b[38;5;21mpositions_individu\u001b[39m(pos,sortie,obstacle,v,dt,t_max):\n\u001b[1;32m     17\u001b[0m     res \u001b[38;5;241m=\u001b[39m []\n",
      "Cell \u001b[0;32mIn[6], line 7\u001b[0m, in \u001b[0;36mdeplace_vers\u001b[0;34m(coord, obstacle, v, dt)\u001b[0m\n\u001b[1;32m      5\u001b[0m \u001b[38;5;28;01mfor\u001b[39;00m i \u001b[38;5;129;01min\u001b[39;00m liste_direction:\n\u001b[1;32m      6\u001b[0m     p \u001b[38;5;241m=\u001b[39m coord \u001b[38;5;241m+\u001b[39m v\u001b[38;5;241m*\u001b[39mdt\u001b[38;5;241m*\u001b[39mi \u001b[38;5;66;03m#le prochain coord de la personne\u001b[39;00m\n\u001b[0;32m----> 7\u001b[0m     \u001b[38;5;28;01mif\u001b[39;00m \u001b[43mp\u001b[49m\u001b[43m \u001b[49m\u001b[38;5;129;43;01mnot\u001b[39;49;00m\u001b[43m \u001b[49m\u001b[38;5;129;43;01min\u001b[39;49;00m\u001b[43m \u001b[49m\u001b[43mobstacle\u001b[49m :\n\u001b[1;32m      8\u001b[0m         \u001b[38;5;28;01mreturn\u001b[39;00m p\n",
      "\u001b[0;31mValueError\u001b[0m: The truth value of an array with more than one element is ambiguous. Use a.any() or a.all()"
     ]
    }
   ],
   "source": [
    "def deplace_vers(coord,obstacle,v,dt):\n",
    "    #coord : coord actuel de la personne\n",
    "    #obstacle : liste des points\n",
    "    liste_direction = np.array(((1,0),(-1,0),(0,1),(0,-1))) #droite,gauche,hau,bas\n",
    "    for i in liste_direction:\n",
    "        p = coord + v*dt*i #le prochain coord de la personne\n",
    "        if p not in obstacle :\n",
    "            return p\n",
    "\n",
    "\n",
    "coord = np.array((20,30))\n",
    "print(coord+v*dt*directions[0])\n",
    "deplace_vers(coord,obstacle,v,dt)\n",
    "        \n",
    "\n",
    "def positions_individu(pos,sortie,obstacle,v,dt,t_max):\n",
    "    res = []\n",
    "    t = 0\n",
    "    p = pos\n",
    "    while (t<t_max):\n",
    "        step = step(p,sortie,v,dt)\n",
    "        p = p + step\n",
    "        if p not in obstacle:\n",
    "            res.append(p)\n",
    "        else:\n",
    "            p = deplace_vers(p,obstacle,v,dt)\n",
    "        t = t + dt\n",
    "    return res"
   ]
  },
  {
   "cell_type": "code",
   "execution_count": null,
   "id": "ecf87663-14af-4458-8c15-f4c7ffdeae76",
   "metadata": {},
   "outputs": [],
   "source": []
  }
 ],
 "metadata": {
  "kernelspec": {
   "display_name": "py3-9-13",
   "language": "python",
   "name": "conda-env-py3-9-13-py"
  },
  "language_info": {
   "codemirror_mode": {
    "name": "ipython",
    "version": 3
   },
   "file_extension": ".py",
   "mimetype": "text/x-python",
   "name": "python",
   "nbconvert_exporter": "python",
   "pygments_lexer": "ipython3",
   "version": "3.9.13"
  }
 },
 "nbformat": 4,
 "nbformat_minor": 5
}
