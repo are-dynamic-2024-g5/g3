{
 "cells": [
  {
   "cell_type": "code",
   "execution_count": 1,
   "id": "23384e69-df9f-4cb1-a32a-95f8497aa902",
   "metadata": {},
   "outputs": [],
   "source": [
    "import numpy as np\n",
    "from matplotlib import pyplot as plt"
   ]
  },
  {
   "cell_type": "code",
   "execution_count": 4,
   "id": "46f75ac2-1014-4902-8800-053ff405f0af",
   "metadata": {},
   "outputs": [],
   "source": [
    "#coordonnée de la personne 1\n",
    "x1 = 30\n",
    "y1 = 50\n",
    "pos1 = np.array((x1,y1))\n",
    "\n",
    "x2 = 15\n",
    "y2 = 60\n",
    "pos2 = np.array((x2,y2))\n",
    "\n",
    "#coordonnée de sortie\n",
    "sx1 = 0\n",
    "sy1 = 0\n",
    "sx2 = 30\n",
    "sy2 = 0\n",
    "sortie1 = np.array((sx1,sy1))\n",
    "sortie2 = np.array((sx2,sy2))\n",
    "sortie = np.array((sortie1,sortie2))\n",
    "\n",
    "\n",
    "#vitesse de mouvement de la personne\n",
    "v = 1.5 #m/s\n",
    "\n",
    "#temps\n",
    "dt = 1\n",
    "tmax = 20"
   ]
  },
  {
   "cell_type": "code",
   "execution_count": 9,
   "id": "2c4653b7-a0d1-4538-a175-09d9a4678fdc",
   "metadata": {},
   "outputs": [
    {
     "name": "stdout",
     "output_type": "stream",
     "text": [
      "[-0.51449576 -0.85749293]\n",
      "[array([30, 50]), array([30. , 48.5]), array([30., 47.]), array([30. , 45.5]), array([30., 44.]), array([30. , 42.5]), array([30., 41.]), array([30. , 39.5]), array([30., 38.]), array([30. , 36.5]), array([30., 35.]), array([30. , 33.5]), array([30., 32.]), array([30. , 30.5]), array([30., 29.]), array([30. , 27.5]), array([30., 26.]), array([30. , 24.5]), array([30., 23.]), array([30. , 21.5]), array([30., 20.])]\n"
     ]
    }
   ],
   "source": [
    "def direction(pos,sortie):\n",
    "    d = sortie - pos\n",
    "    d = d/np.sqrt(d[0]**2+d[1]**2)\n",
    "    return d\n",
    "\n",
    "print(direction(pos1,sortie1))\n",
    "\n",
    "def step(pos,sortie,v,dt): \n",
    "    dir = direction(pos,sortie)\n",
    "    return v*dt*dir\n",
    "\n",
    "\n",
    "def positions_individu(pos,sortie,v,dt,t_max):\n",
    "    p = pos\n",
    "    res = [p]\n",
    "    t = 0\n",
    "    while (t<t_max):\n",
    "        p = p + step(p,sortie,v,dt)\n",
    "        res.append(p)\n",
    "        t = t + dt\n",
    "    return res\n",
    "\n",
    "\n",
    "def sortiePlusProche(pos,sortie):\n",
    "    d = np.linalg.norm(sortie - pos, axis=1)\n",
    "    return np.argmin(d)\n",
    "        \n",
    "s_pos1 = sortiePlusProche(pos1,sortie)\n",
    "s_pos2 = sortiePlusProche(pos2,sortie)\n",
    "\n",
    "position_x1 = [i[0] for i in positions_individu(pos1,sortie[s_pos1],v,dt,tmax)]\n",
    "position_y1 = [i[1] for i in positions_individu(pos1,sortie[s_pos1],v,dt,tmax)]\n",
    "position_x2 = [i[0] for i in positions_individu(pos2,sortie[s_pos2],v,dt,tmax)]\n",
    "position_y2 = [i[1] for i in positions_individu(pos2,sortie[s_pos2],v,dt,tmax)]\n",
    "\n",
    "print(positions_individu(pos1,sortie[s_pos1],v,dt,tmax))\n",
    "\n",
    "#position_x1 = [i[0] for i in positions_individu(pos1,sortie[s_pos1],obstacle,v,dt,tmax)]\n",
    "#position_y1 = [i[1] for i in positions_individu(pos1,sortie[s_pos1],obstacle,v,dt,tmax)]\n",
    "#position_x2 = [i[0] for i in positions_individu(pos2,sortie[s_pos2],obstacle,v,dt,tmax)]\n",
    "#position_y2 = [i[1] for i in positions_individu(pos2,sortie[s_pos2],obstacle,v,dt,tmax)]"
   ]
  },
  {
   "cell_type": "code",
   "execution_count": 6,
   "id": "1ed71f1b-d527-4c76-a9ba-4ed707a7e246",
   "metadata": {},
   "outputs": [
    {
     "name": "stdout",
     "output_type": "stream",
     "text": [
      "[array([25, 25]), array([25.1, 25. ]), array([25.2, 25. ]), array([25.3, 25. ]), array([25.4, 25. ]), array([25.5, 25. ]), array([25.6, 25. ]), array([25.7, 25. ]), array([25.8, 25. ]), array([25.9, 25. ]), array([26., 25.]), array([26.1, 25. ]), array([26.2, 25. ]), array([26.3, 25. ]), array([26.4, 25. ]), array([26.5, 25. ]), array([26.6, 25. ]), array([26.7, 25. ]), array([26.8, 25. ]), array([26.9, 25. ]), array([27., 25.]), array([27.1, 25. ]), array([27.2, 25. ]), array([27.3, 25. ]), array([27.4, 25. ]), array([27.5, 25. ]), array([27.6, 25. ]), array([27.7, 25. ]), array([27.8, 25. ]), array([27.9, 25. ]), array([28., 25.]), array([28.1, 25. ]), array([28.2, 25. ]), array([28.3, 25. ]), array([28.4, 25. ]), array([28.5, 25. ]), array([28.6, 25. ]), array([28.7, 25. ]), array([28.8, 25. ]), array([28.9, 25. ]), array([29., 25.]), array([29.1, 25. ]), array([29.2, 25. ]), array([29.3, 25. ]), array([29.4, 25. ]), array([29.5, 25. ]), array([29.6, 25. ]), array([29.7, 25. ]), array([29.8, 25. ]), array([29.9, 25. ]), array([30., 25.]), array([30.1, 25. ]), array([30.2, 25. ]), array([30.3, 25. ]), array([30.4, 25. ]), array([30.5, 25. ]), array([30.6, 25. ]), array([30.7, 25. ]), array([30.8, 25. ]), array([30.9, 25. ]), array([31., 25.]), array([31.1, 25. ]), array([31.2, 25. ]), array([31.3, 25. ]), array([31.4, 25. ]), array([31.5, 25. ]), array([31.6, 25. ]), array([31.7, 25. ]), array([31.8, 25. ]), array([31.9, 25. ]), array([32., 25.]), array([32.1, 25. ]), array([32.2, 25. ]), array([32.3, 25. ]), array([32.4, 25. ]), array([32.5, 25. ]), array([32.6, 25. ]), array([32.7, 25. ]), array([32.8, 25. ]), array([32.9, 25. ]), array([33., 25.]), array([33.1, 25. ]), array([33.2, 25. ]), array([33.3, 25. ]), array([33.4, 25. ]), array([33.5, 25. ]), array([33.6, 25. ]), array([33.7, 25. ]), array([33.8, 25. ]), array([33.9, 25. ]), array([34., 25.]), array([34.1, 25. ]), array([34.2, 25. ]), array([34.3, 25. ]), array([34.4, 25. ]), array([34.5, 25. ]), array([34.6, 25. ]), array([34.7, 25. ]), array([34.8, 25. ]), array([34.9, 25. ]), array([35., 25.]), array([35.1, 25. ])]\n"
     ]
    }
   ],
   "source": [
    "#obstacle\n",
    "obs_a = np.array((25,25)) \n",
    "obs_b = np.array((35,25))\n",
    "\n",
    "def positions_obstacle(point_a,point_b,delta_d):\n",
    "    #ensemble des points d'un obstacle\n",
    "    #delta_d = distance entre chaque points\n",
    "    point = point_a\n",
    "    l_obs = [point]\n",
    "    dir = direction(point_a,point_b)\n",
    "    \n",
    "    d_max = point_b- point_a\n",
    "    d_max = np.sqrt(d_max[0]**2+d_max[1]**2)\n",
    "    d = 0\n",
    "    \n",
    "    while (d < d_max):\n",
    "        point = point + dir * delta_d\n",
    "        l_obs.append(point)\n",
    "        d = d + delta_d\n",
    "    return l_obs\n",
    "\n",
    "obstacle = positions_obstacle(obs_a,obs_b,0.1) #liste des coord des points d'un obstacle\n",
    "obs_x = [i[0] for i in obstacle]\n",
    "obs_y = [i[1] for i in obstacle]\n",
    "print(obstacle)"
   ]
  },
  {
   "cell_type": "code",
   "execution_count": 21,
   "id": "4943481d",
   "metadata": {},
   "outputs": [
    {
     "name": "stdout",
     "output_type": "stream",
     "text": [
      "[20 30]\n",
      "[21.5 30. ]\n"
     ]
    }
   ],
   "source": [
    "directions = np.array(((1,0),(-1,0),(0,1),(0,-1)))\n",
    "coord = np.array((20,30))\n",
    "coord2 = coord+v*dt*directions[0]\n",
    "print(coord)\n",
    "print(coord2)"
   ]
  },
  {
   "cell_type": "code",
   "execution_count": 16,
   "id": "93dbc305-4a7d-4811-8579-dc4afae80ccc",
   "metadata": {},
   "outputs": [
    {
     "name": "stdout",
     "output_type": "stream",
     "text": [
      "[21.5 30. ]\n"
     ]
    },
    {
     "ename": "ValueError",
     "evalue": "The truth value of an array with more than one element is ambiguous. Use a.any() or a.all()",
     "output_type": "error",
     "traceback": [
      "\u001b[1;31m---------------------------------------------------------------------------\u001b[0m",
      "\u001b[1;31mValueError\u001b[0m                                Traceback (most recent call last)",
      "\u001b[1;32m~\\AppData\\Local\\Temp\\7\\ipykernel_28564\\959217953.py\u001b[0m in \u001b[0;36m<module>\u001b[1;34m\u001b[0m\n\u001b[0;32m     10\u001b[0m \u001b[0mcoord\u001b[0m \u001b[1;33m=\u001b[0m \u001b[0mnp\u001b[0m\u001b[1;33m.\u001b[0m\u001b[0marray\u001b[0m\u001b[1;33m(\u001b[0m\u001b[1;33m(\u001b[0m\u001b[1;36m20\u001b[0m\u001b[1;33m,\u001b[0m\u001b[1;36m30\u001b[0m\u001b[1;33m)\u001b[0m\u001b[1;33m)\u001b[0m\u001b[1;33m\u001b[0m\u001b[1;33m\u001b[0m\u001b[0m\n\u001b[0;32m     11\u001b[0m \u001b[0mprint\u001b[0m\u001b[1;33m(\u001b[0m\u001b[0mcoord\u001b[0m\u001b[1;33m+\u001b[0m\u001b[0mv\u001b[0m\u001b[1;33m*\u001b[0m\u001b[0mdt\u001b[0m\u001b[1;33m*\u001b[0m\u001b[0mdirections\u001b[0m\u001b[1;33m[\u001b[0m\u001b[1;36m0\u001b[0m\u001b[1;33m]\u001b[0m\u001b[1;33m)\u001b[0m\u001b[1;33m\u001b[0m\u001b[1;33m\u001b[0m\u001b[0m\n\u001b[1;32m---> 12\u001b[1;33m \u001b[0mdeplace_vers\u001b[0m\u001b[1;33m(\u001b[0m\u001b[0mcoord\u001b[0m\u001b[1;33m,\u001b[0m\u001b[0mobstacle\u001b[0m\u001b[1;33m,\u001b[0m\u001b[0mv\u001b[0m\u001b[1;33m,\u001b[0m\u001b[0mdt\u001b[0m\u001b[1;33m)\u001b[0m\u001b[1;33m\u001b[0m\u001b[1;33m\u001b[0m\u001b[0m\n\u001b[0m\u001b[0;32m     13\u001b[0m \u001b[1;33m\u001b[0m\u001b[0m\n\u001b[0;32m     14\u001b[0m \u001b[1;33m\u001b[0m\u001b[0m\n",
      "\u001b[1;32m~\\AppData\\Local\\Temp\\7\\ipykernel_28564\\959217953.py\u001b[0m in \u001b[0;36mdeplace_vers\u001b[1;34m(coord, obstacle, v, dt)\u001b[0m\n\u001b[0;32m      5\u001b[0m     \u001b[1;32mfor\u001b[0m \u001b[0mi\u001b[0m \u001b[1;32min\u001b[0m \u001b[0mliste_direction\u001b[0m\u001b[1;33m:\u001b[0m\u001b[1;33m\u001b[0m\u001b[1;33m\u001b[0m\u001b[0m\n\u001b[0;32m      6\u001b[0m         \u001b[0mp\u001b[0m \u001b[1;33m=\u001b[0m \u001b[0mnp\u001b[0m\u001b[1;33m.\u001b[0m\u001b[0marray\u001b[0m\u001b[1;33m(\u001b[0m\u001b[1;33m(\u001b[0m\u001b[0mcoord\u001b[0m \u001b[1;33m+\u001b[0m \u001b[0mv\u001b[0m\u001b[1;33m*\u001b[0m\u001b[0mdt\u001b[0m\u001b[1;33m*\u001b[0m\u001b[0mi\u001b[0m\u001b[1;33m)\u001b[0m\u001b[1;33m)\u001b[0m \u001b[1;31m#le prochain coord de la personne\u001b[0m\u001b[1;33m\u001b[0m\u001b[1;33m\u001b[0m\u001b[0m\n\u001b[1;32m----> 7\u001b[1;33m         \u001b[1;32mif\u001b[0m \u001b[0mp\u001b[0m \u001b[1;32mnot\u001b[0m \u001b[1;32min\u001b[0m \u001b[0mobstacle\u001b[0m \u001b[1;33m:\u001b[0m\u001b[1;33m\u001b[0m\u001b[1;33m\u001b[0m\u001b[0m\n\u001b[0m\u001b[0;32m      8\u001b[0m             \u001b[1;32mreturn\u001b[0m \u001b[0mp\u001b[0m\u001b[1;33m\u001b[0m\u001b[1;33m\u001b[0m\u001b[0m\n\u001b[0;32m      9\u001b[0m \u001b[1;33m\u001b[0m\u001b[0m\n",
      "\u001b[1;31mValueError\u001b[0m: The truth value of an array with more than one element is ambiguous. Use a.any() or a.all()"
     ]
    }
   ],
   "source": [
    "def deplace_vers(coord,obstacle,v,dt):\n",
    "    #coord : coord actuel de la personne\n",
    "    #obstacle : liste des points\n",
    "    liste_direction = np.array(((1,0),(-1,0),(0,1),(0,-1))) #droite,gauche,hau,bas\n",
    "    for i in liste_direction:\n",
    "        p = coord + v*dt*i #le prochain coord de la personne\n",
    "        if p not in obstacle :\n",
    "            return p\n",
    "\n",
    "\n",
    "coord = np.array((20,30))\n",
    "print(coord+v*dt*directions[0])\n",
    "deplace_vers(coord,obstacle,v,dt)\n",
    "        \n",
    "\n",
    "def positions_individu(pos,sortie,obstacle,v,dt,t_max):\n",
    "    res = []\n",
    "    t = 0\n",
    "    p = pos\n",
    "    while (t<t_max):\n",
    "        step = step(p,sortie,v,dt)\n",
    "        p = p + step\n",
    "        if p not in obstacle:\n",
    "            res.append(p)\n",
    "        else:\n",
    "            p = deplace_vers(p,obstacle,v,dt)\n",
    "        t = t + dt\n",
    "    return res"
   ]
  },
  {
   "cell_type": "code",
   "execution_count": 45,
   "id": "495de935-6d98-4d79-b2d3-f4e0bfc1b0aa",
   "metadata": {},
   "outputs": [
    {
     "data": {
      "image/png": "[encoded data removed]",
      "text/plain": [
       "<Figure size 640x480 with 1 Axes>"
      ]
     },
     "metadata": {},
     "output_type": "display_data"
    }
   ],
   "source": [
    "plt.plot(position_x1,position_y1)\n",
    "plt.plot(position_x2,position_y2)\n",
    "plt.xlabel(\"x\")\n",
    "plt.ylabel(\"y\")\n",
    "\n",
    "#individu\n",
    "plt.plot(x1,y1,\"bo\")\n",
    "plt.plot(x2,y2,\"ko\")\n",
    "#sortie\n",
    "plt.plot(sortie[0][0],sortie[0][1],\"ro\")\n",
    "plt.plot(sortie[1][0],sortie[1][1],\"ro\")\n",
    "#obstacle\n",
    "plt.plot(obs_x,obs_y,\"k-\")\n",
    "\n",
    "plt.axis(\"equal\")\n",
    "plt.show()"
   ]
  },
  {
   "cell_type": "code",
   "execution_count": null,
   "id": "ecf87663-14af-4458-8c15-f4c7ffdeae76",
   "metadata": {},
   "outputs": [],
   "source": []
  }
 ],
 "metadata": {
  "kernelspec": {
   "display_name": "py3-9-13",
   "language": "python",
   "name": "conda-env-py3-9-13-py"
  },
  "language_info": {
   "codemirror_mode": {
    "name": "ipython",
    "version": 3
   },
   "file_extension": ".py",
   "mimetype": "text/x-python",
   "name": "python",
   "nbconvert_exporter": "python",
   "pygments_lexer": "ipython3",
   "version": "3.9.13"
  }
 },
 "nbformat": 4,
 "nbformat_minor": 5
}
